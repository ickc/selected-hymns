{
 "cells": [
  {
   "cell_type": "markdown",
   "metadata": {},
   "source": [
    "# Check sequential"
   ]
  },
  {
   "cell_type": "raw",
   "metadata": {
    "collapsed": true
   },
   "source": [
    "with open('number.txt') as f:\n",
    "    content = f.readlines()"
   ]
  },
  {
   "cell_type": "raw",
   "metadata": {
    "collapsed": false
   },
   "source": [
    "number_list = [int(line.rstrip('\\n')) for line in content]"
   ]
  },
  {
   "cell_type": "raw",
   "metadata": {
    "collapsed": false
   },
   "source": [
    "isrange = [i+1 == x for i, x in enumerate(number_list)]\n",
    "print(all(isrange))"
   ]
  },
  {
   "cell_type": "markdown",
   "metadata": {},
   "source": [
    "# manipulate en.txt"
   ]
  },
  {
   "cell_type": "raw",
   "metadata": {
    "collapsed": true
   },
   "source": [
    "import re\n",
    "first_3_digit = re.compile(r'^(\\d{3})')"
   ]
  },
  {
   "cell_type": "raw",
   "metadata": {
    "collapsed": true
   },
   "source": [
    "with open('en.md') as f:\n",
    "    content = f.readlines()"
   ]
  },
  {
   "cell_type": "raw",
   "metadata": {
    "collapsed": false
   },
   "source": [
    "test = '123 sidahjgiudfhbgnhadfsbnjh'\n",
    "assert first_3_digit.search(test).group() == '123'"
   ]
  },
  {
   "cell_type": "raw",
   "metadata": {
    "collapsed": false
   },
   "source": [
    "number_list = []\n",
    "for line in content:\n",
    "    try:\n",
    "        number_list.append(int(first_3_digit.search(line).group()))\n",
    "#         number_list.append(int(line[0:3]))\n",
    "    except (AttributeError, ValueError, TypeError):\n",
    "        pass\n",
    "print(number_list)"
   ]
  },
  {
   "cell_type": "raw",
   "metadata": {
    "collapsed": false
   },
   "source": [
    "isrange = [i+1 == x for i, x in enumerate(number_list)]\n",
    "print(all(isrange))"
   ]
  },
  {
   "cell_type": "raw",
   "metadata": {
    "collapsed": false
   },
   "source": [
    "print(isrange)"
   ]
  },
  {
   "cell_type": "raw",
   "metadata": {
    "collapsed": false
   },
   "source": [
    "len(number_list)"
   ]
  },
  {
   "cell_type": "raw",
   "metadata": {
    "collapsed": false
   },
   "source": [
    "for i, x in enumerate(number_list):\n",
    "    if i+1 != x:\n",
    "        print(i+1, x)"
   ]
  },
  {
   "cell_type": "markdown",
   "metadata": {},
   "source": [
    "# Split Hymn book into individual hymns"
   ]
  },
  {
   "cell_type": "code",
   "execution_count": 1,
   "metadata": {
    "collapsed": true
   },
   "outputs": [],
   "source": [
    "import re\n",
    "first_3_digit_in_title = re.compile(r'^(# \\d{3})')"
   ]
  },
  {
   "cell_type": "code",
   "execution_count": 2,
   "metadata": {
    "collapsed": false
   },
   "outputs": [],
   "source": [
    "test = '# 123 sidahjgiudfhbgnhadfsbnjh'\n",
    "assert first_3_digit_in_title.search(test).group()[2:5] == '123'"
   ]
  },
  {
   "cell_type": "code",
   "execution_count": 3,
   "metadata": {
    "collapsed": true
   },
   "outputs": [],
   "source": [
    "lang = 'zh'"
   ]
  },
  {
   "cell_type": "code",
   "execution_count": 4,
   "metadata": {
    "collapsed": true
   },
   "outputs": [],
   "source": [
    "source = lang + '.md'\n",
    "with open(source) as f:\n",
    "    content = f.readlines()"
   ]
  },
  {
   "cell_type": "code",
   "execution_count": 5,
   "metadata": {
    "collapsed": false
   },
   "outputs": [],
   "source": [
    "filename = lang + '/000.md'\n",
    "for line in content:\n",
    "    if first_3_digit_in_title.match(line):\n",
    "        filename = lang + '/' + first_3_digit_in_title.search(line).group()[2:5] + '.md'\n",
    "    with open(filename, 'a') as file:\n",
    "        file.write(line)"
   ]
  }
 ],
 "metadata": {
  "kernelspec": {
   "display_name": "Python 3",
   "language": "python",
   "name": "python3"
  },
  "language_info": {
   "codemirror_mode": {
    "name": "ipython",
    "version": 3
   },
   "file_extension": ".py",
   "mimetype": "text/x-python",
   "name": "python",
   "nbconvert_exporter": "python",
   "pygments_lexer": "ipython3",
   "version": "3.5.2"
  }
 },
 "nbformat": 4,
 "nbformat_minor": 2
}
