{
 "cells": [
  {
   "cell_type": "code",
   "execution_count": null,
   "metadata": {},
   "outputs": [],
   "source": [
    "from functools import partial\n",
    "\n",
    "import yaml\n",
    "import yamlloader\n",
    "\n",
    "from util.util import convert, hymn_range"
   ]
  },
  {
   "cell_type": "code",
   "execution_count": null,
   "id": "7932fad3",
   "metadata": {},
   "outputs": [],
   "source": []
  },
  {
   "cell_type": "code",
   "execution_count": null,
   "id": "8690ab2f",
   "metadata": {},
   "outputs": [],
   "source": []
  },
  {
   "cell_type": "code",
   "execution_count": null,
   "metadata": {},
   "outputs": [],
   "source": [
    "KEYS = (\n",
    "    \"title\",\n",
    "    \"category\",\n",
    "    \"meter\",\n",
    "    \"ref\",\n",
    "    \"author\",\n",
    "    \"note\",\n",
    "    \"stanza\",\n",
    ")"
   ]
  },
  {
   "cell_type": "code",
   "execution_count": null,
   "metadata": {},
   "outputs": [],
   "source": [
    "list(map(convert, hymn_range()))\n",
    "None"
   ]
  },
  {
   "cell_type": "code",
   "execution_count": null,
   "metadata": {},
   "outputs": [],
   "source": [
    "keys = set()\n",
    "for num in hymn_range():\n",
    "    keys |= set(\n",
    "        yaml.load(\n",
    "            open(\"data/{0:03}.yml\".format(num)), Loader=yamlloader.ordereddict.CLoader\n",
    "        ).keys()\n",
    "    )"
   ]
  },
  {
   "cell_type": "code",
   "execution_count": null,
   "metadata": {},
   "outputs": [],
   "source": [
    "def get_lang(lang, data, key):\n",
    "    result = data.get(key, None)\n",
    "    return (\n",
    "        result.get(lang, None)\n",
    "        if result is not None and isinstance(result, dict)\n",
    "        else result\n",
    "    )"
   ]
  },
  {
   "cell_type": "code",
   "execution_count": null,
   "metadata": {},
   "outputs": [],
   "source": [
    "def writer(lang, num):\n",
    "    with open(\"data/{0:03}.yml\".format(num)) as f:\n",
    "        data = yaml.load(f, Loader=yamlordereddictloader.Loader)\n",
    "\n",
    "    _get_lang = partial(get_lang, lang, data)\n",
    "\n",
    "    front_matter = list(filter(lambda x: x is not None, map(_get_lang, KEYS[:-1])))\n",
    "    if front_matter:\n",
    "        front_matter[0] = \"# {0:03} {1}\".format(num, front_matter[0])\n",
    "    else:\n",
    "        front_matter = [\"# 0:03\".format(num)]\n",
    "    return \"\\n\\n\".join(front_matter)"
   ]
  },
  {
   "cell_type": "code",
   "execution_count": null,
   "metadata": {},
   "outputs": [],
   "source": [
    "writer(\"zh\", 72)"
   ]
  }
 ],
 "metadata": {
  "kernelspec": {
   "display_name": "all3-intel",
   "language": "python",
   "name": "all3-intel"
  },
  "language_info": {
   "codemirror_mode": {
    "name": "ipython",
    "version": 3
   },
   "file_extension": ".py",
   "mimetype": "text/x-python",
   "name": "python",
   "nbconvert_exporter": "python",
   "pygments_lexer": "ipython3",
   "version": "3.6.5"
  }
 },
 "nbformat": 4,
 "nbformat_minor": 2
}
