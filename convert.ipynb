{
 "cells": [
  {
   "cell_type": "code",
   "execution_count": null,
   "metadata": {},
   "outputs": [],
   "source": [
    "from functools import partial"
   ]
  },
  {
   "cell_type": "code",
   "execution_count": null,
   "metadata": {},
   "outputs": [],
   "source": [
    "from collections import defaultdict"
   ]
  },
  {
   "cell_type": "code",
   "execution_count": null,
   "metadata": {},
   "outputs": [],
   "source": [
    "from itertools import chain"
   ]
  },
  {
   "cell_type": "code",
   "execution_count": null,
   "metadata": {},
   "outputs": [],
   "source": [
    "import yaml\n",
    "import yamlloader"
   ]
  },
  {
   "cell_type": "markdown",
   "metadata": {},
   "source": [
    "keys per hymn:\n",
    "\n",
    "stanza: dict with keys as int, or int-chorus, values as dict with key as zh, en\n",
    "\n",
    "meter: str\n",
    "\n",
    "note: dict with key as zh, en\n",
    "\n",
    "ref: dict with key as zh, en\n",
    "\n",
    "author: dict with key as en\n",
    "\n",
    "title: dict with key as en"
   ]
  },
  {
   "cell_type": "code",
   "execution_count": null,
   "metadata": {},
   "outputs": [],
   "source": [
    "KEYS = ('author', 'meter', 'ref', 'note')"
   ]
  },
  {
   "cell_type": "code",
   "execution_count": null,
   "metadata": {},
   "outputs": [],
   "source": [
    "LANG = ('zh', 'en')"
   ]
  },
  {
   "cell_type": "code",
   "execution_count": null,
   "metadata": {},
   "outputs": [],
   "source": [
    "meta = {\n",
    "    'en': '''---\n",
    "title:\tSelected Hymns\n",
    "keywords:\tHymn\n",
    "lang:\ten\n",
    "otherlangs: zh-Hant\n",
    "CJKmainfont:\tKaiti TC\n",
    "CJKoptions:\tBoldFont = * Bold, AutoFakeSlant\n",
    "...\n",
    "\n",
    "''',\n",
    "    'zh': '''---\n",
    "title:\t詩歌選集\n",
    "keywords:\t詩歌\n",
    "lang:\tzh-Hant\n",
    "otherlangs: en\n",
    "CJKmainfont:\tKaiti TC\n",
    "CJKoptions:\tBoldFont = * Bold, AutoFakeSlant\n",
    "...\n",
    "\n",
    "'''\n",
    "}"
   ]
  },
  {
   "cell_type": "code",
   "execution_count": null,
   "metadata": {},
   "outputs": [],
   "source": [
    "def get_lang(lang, obj):\n",
    "    '''obtain language ``lang`` from ``obj``\n",
    "    '''\n",
    "    if isinstance(obj, str):\n",
    "        return obj\n",
    "    elif isinstance(obj, dict):\n",
    "        if lang in obj:\n",
    "            return obj[lang]\n",
    "    else:\n",
    "        return ''"
   ]
  },
  {
   "cell_type": "code",
   "execution_count": null,
   "metadata": {},
   "outputs": [],
   "source": [
    "def get_title(lang, hymn):\n",
    "    '''get title from hymn if exist, else get first line from stanza\n",
    "    else return 'No Title'\n",
    "    '''\n",
    "    if 'title' in hymn and lang in hymn['title']:\n",
    "        return hymn['title'][lang]\n",
    "    else:\n",
    "        try:\n",
    "            return list(hymn['stanza'].values())[0][0][lang]\n",
    "        except:\n",
    "            return 'No Title'"
   ]
  },
  {
   "cell_type": "code",
   "execution_count": null,
   "metadata": {},
   "outputs": [],
   "source": [
    "def parse_stanza(lang, dict_):\n",
    "    '''parse ``dict_`` as a stanza while choosing only ``lang``\n",
    "\n",
    "    stanza are dict with keys as either int or str. str is in format ``N-chorus``\n",
    "    where ``N`` is any int. This int indicates the n-th stanza. And ``-chorus``\n",
    "    means it is a chorus.\n",
    "\n",
    "    In this function, Line blocks is used for each stanza, and chorus is an indented\n",
    "    bullet item, stanza are enumerated items.\n",
    "\n",
    "    return a str of stanza in markdown format\n",
    "    '''\n",
    "    result = []\n",
    "    for key, value in dict_.items():\n",
    "        try:\n",
    "            head_rest = '| '\n",
    "\n",
    "            head0 = f'\\n* | ' if isinstance(key, str) else f'\\n{key}. | '\n",
    "\n",
    "            head_cur = head0\n",
    "            for content in value:\n",
    "                result.append(head_cur + content[lang])\n",
    "                head_cur = head_rest\n",
    "        # may occur at content[lang] when lang doesn't exist for that verse\n",
    "        except KeyError:\n",
    "            result.append(f'{head0}no translation.')\n",
    "    return '\\n'.join(result)"
   ]
  },
  {
   "cell_type": "code",
   "execution_count": null,
   "metadata": {},
   "outputs": [],
   "source": [
    "def parser(lang, dict_, i, level, logos=False):\n",
    "    # title\n",
    "    result = ['#' * level + f' {i + 1} ' + get_title(lang, dict_)]\n",
    "    if logos:\n",
    "        result.append(f'[[@Headword+en:{i + 1}]]')\n",
    "    # between title and stanza\n",
    "    result += [get_lang(lang, dict_[key]) for key in KEYS if key in dict_]\n",
    "    # stanza\n",
    "    result.append(parse_stanza(lang, dict_['stanza']))\n",
    "    return result"
   ]
  },
  {
   "cell_type": "code",
   "execution_count": null,
   "metadata": {},
   "outputs": [],
   "source": [
    "def walk(lang, doc, level=1, result=[], logos=False):\n",
    "    '''walk the doc as a dict, when hit a hymn, use ``parser``,\n",
    "    else add a heading and recursively walk again\n",
    "    '''\n",
    "    for key, value in doc.items():\n",
    "        # when key is int, value is a hymn\n",
    "        if isinstance(key, int):\n",
    "#             print(f'find an int {key}')\n",
    "            result += parser(lang, value, key, level, logos=logos)\n",
    "        # else key is a category and value is something like a doc\n",
    "        else:\n",
    "#             print(f'find a category {key}')\n",
    "            result.append('#' * level + ' ' + key)\n",
    "            walk(lang, value, level=level+1, result=result, logos=logos)\n",
    "#     return result"
   ]
  },
  {
   "cell_type": "code",
   "execution_count": null,
   "metadata": {},
   "outputs": [],
   "source": [
    "def write_lang(meta, data, lang, logos=False):\n",
    "    '''IO wrapper of walk\n",
    "    '''\n",
    "    filename = 'en' if lang == 'en' else 'zh-Hant'\n",
    "    if logos:\n",
    "        filename += '-logos'\n",
    "    filename += '.md'\n",
    "    with open(filename, 'w') as f:\n",
    "        f.write(meta[lang])\n",
    "        result = []\n",
    "        walk(lang, data, result=result, logos=logos)\n",
    "        for line in result:\n",
    "            print(line, file=f, end='\\n\\n')"
   ]
  },
  {
   "cell_type": "code",
   "execution_count": null,
   "metadata": {},
   "outputs": [],
   "source": [
    "with open('data2.yml', 'r') as f:\n",
    "    data2 = yaml.load(f, Loader=yamlloader.ordereddict.CLoader)"
   ]
  },
  {
   "cell_type": "code",
   "execution_count": null,
   "metadata": {},
   "outputs": [],
   "source": [
    "for lang in LANG:\n",
    "    for logos in (True, False):\n",
    "        write_lang(meta, data2, lang, logos=logos)"
   ]
  }
 ],
 "metadata": {
  "kernelspec": {
   "display_name": "all3-defaults",
   "language": "python",
   "name": "all3-defaults"
  },
  "language_info": {
   "codemirror_mode": {
    "name": "ipython",
    "version": 3
   },
   "file_extension": ".py",
   "mimetype": "text/x-python",
   "name": "python",
   "nbconvert_exporter": "python",
   "pygments_lexer": "ipython3",
   "version": "3.8.5"
  }
 },
 "nbformat": 4,
 "nbformat_minor": 4
}
