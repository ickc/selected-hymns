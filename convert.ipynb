{
 "cells": [
  {
   "cell_type": "code",
   "execution_count": null,
   "metadata": {},
   "outputs": [],
   "source": [
    "from functools import partial"
   ]
  },
  {
   "cell_type": "code",
   "execution_count": null,
   "metadata": {},
   "outputs": [],
   "source": [
    "from collections import defaultdict"
   ]
  },
  {
   "cell_type": "code",
   "execution_count": null,
   "metadata": {},
   "outputs": [],
   "source": [
    "from itertools import chain"
   ]
  },
  {
   "cell_type": "code",
   "execution_count": null,
   "metadata": {},
   "outputs": [],
   "source": [
    "import yaml\n",
    "import yamlloader"
   ]
  },
  {
   "cell_type": "markdown",
   "metadata": {},
   "source": [
    "keys:\n",
    "\n",
    "stanza: dict with keys as int, or int-chorus, values as dict with key as zh, en\n",
    "\n",
    "meter: str\n",
    "\n",
    "category: dict with key as zh\n",
    "\n",
    "note: dict with key as zh, en\n",
    "\n",
    "ref: dict with key as zh, en\n",
    "\n",
    "author: dict with key as en\n",
    "\n",
    "title: dict with key as en"
   ]
  },
  {
   "cell_type": "code",
   "execution_count": null,
   "metadata": {},
   "outputs": [],
   "source": [
    "KEYS = ('category', 'title', 'author', 'meter', 'ref', 'note')"
   ]
  },
  {
   "cell_type": "code",
   "execution_count": null,
   "metadata": {},
   "outputs": [],
   "source": [
    "LANG = ('zh', 'en')"
   ]
  },
  {
   "cell_type": "code",
   "execution_count": null,
   "metadata": {},
   "outputs": [],
   "source": [
    "meta = {\n",
    "    'en': '''---\n",
    "title:\tSelected Hymns\n",
    "keywords:\tHymn\n",
    "lang:\ten\n",
    "...\n",
    "\n",
    "''',\n",
    "    'zh': '''---\n",
    "title:\t詩歌選集\n",
    "keywords:\t詩歌\n",
    "lang:\tzh-Hant\n",
    "otherlangs: en\n",
    "CJKmainfont:\tKaiti TC\n",
    "CJKoptions:\tBoldFont = * Bold, AutoFakeSlant\n",
    "...\n",
    "\n",
    "'''\n",
    "}"
   ]
  },
  {
   "cell_type": "code",
   "execution_count": null,
   "metadata": {},
   "outputs": [],
   "source": [
    "def get_lang(lang, lang_other, obj):\n",
    "    '''obtain language ``lang`` from ``obj`` with fallback to ``lang_other``\n",
    "    '''\n",
    "    if isinstance(obj, str):\n",
    "        return obj\n",
    "    elif isinstance(obj, dict):\n",
    "        if lang in obj:\n",
    "            return obj[lang]\n",
    "        elif lang_other in obj:\n",
    "            return obj[lang_other]\n",
    "        else:\n",
    "            print(obj)\n",
    "            raise ValueError\n",
    "    else:\n",
    "        print(obj)\n",
    "        raise ValueError"
   ]
  },
  {
   "cell_type": "code",
   "execution_count": null,
   "metadata": {},
   "outputs": [],
   "source": [
    "def parse_stanza(lang, dict_):\n",
    "    '''parse ``dict_`` as a stanza while choosing only ``lang``\n",
    "\n",
    "    stanza are dict with keys as either int or str. str is in format ``N-chorus``\n",
    "    where ``N`` is any int. This int indicates the n-th stanza. And ``-chorus``\n",
    "    means it is a chorus.\n",
    "\n",
    "    In this function, Line blocks is used for each stanza, and chorus is an indented\n",
    "    bullet item, stanza are enumerated items.\n",
    "\n",
    "    return a str of stanza in markdown format\n",
    "    '''\n",
    "    result = []\n",
    "    for key, value in dict_.items():\n",
    "        try:\n",
    "            head_rest = '| '\n",
    "\n",
    "            head0 = f'\\n* | ' if isinstance(key, str) else f'\\n{key}. | '\n",
    "\n",
    "            head_cur = head0\n",
    "            for content in value:\n",
    "                result.append(head_cur + content[lang])\n",
    "                head_cur = head_rest\n",
    "        # may occur at content[lang] when lang doesn't exist for that verse\n",
    "        except KeyError:\n",
    "            result.append(f'{head0}no translation.')\n",
    "    return '\\n'.join(result)"
   ]
  },
  {
   "cell_type": "code",
   "execution_count": null,
   "metadata": {},
   "outputs": [],
   "source": [
    "def parser(lang, dict_, logos=False):\n",
    "    '''``dict_`` is a hymn, with keys in KEYS or 'stanza'\n",
    "    those in KEYS are parsed by ``get_lang`` and 'stanza'\n",
    "    parsed by ``parse_stanza``.\n",
    "\n",
    "    Whichever first in line becomes a title.\n",
    "\n",
    "    if ``logos``, add Logos PBB milestone with ``logos`` as the page no.\n",
    "\n",
    "    Return a list of lines in markdown\n",
    "    '''\n",
    "    lang_other = 'zh' if lang == 'en' else 'en'\n",
    "    result = [get_lang(lang, lang_other, dict_[key]) for key in KEYS if key in dict_]\n",
    "    result.append(parse_stanza(lang, dict_['stanza']))\n",
    "    result[0] = f'# {result[0]}'\n",
    "    if logos:\n",
    "        result.insert(1, f'[[@Headword+en:{logos}]]')\n",
    "    return result"
   ]
  },
  {
   "cell_type": "code",
   "execution_count": null,
   "metadata": {},
   "outputs": [],
   "source": [
    "def parser_wrap(lang, data, i):\n",
    "    return parser(lang, data[i], logos=i+1)"
   ]
  },
  {
   "cell_type": "code",
   "execution_count": null,
   "metadata": {},
   "outputs": [],
   "source": [
    "with open('data.yml', 'r') as f:\n",
    "    data = yaml.load(f, Loader=yamlloader.ordereddict.CLoader)"
   ]
  },
  {
   "cell_type": "code",
   "execution_count": null,
   "metadata": {},
   "outputs": [],
   "source": [
    "for lang in ('zh', 'en'):\n",
    "    filename = 'en.md' if lang == 'en' else 'zh-Hant.md'\n",
    "    with open(filename, 'w') as f:\n",
    "        f.write(meta[lang])\n",
    "        for line in chain(*map(partial(parser, lang), data)):\n",
    "            print(line, file=f, end='\\n\\n')"
   ]
  },
  {
   "cell_type": "code",
   "execution_count": null,
   "metadata": {},
   "outputs": [],
   "source": [
    "for lang in ('zh', 'en'):\n",
    "    filename = 'en-logos.md' if lang == 'en' else 'zh-Hant-logos.md'\n",
    "    with open(filename, 'w') as f:\n",
    "        f.write(meta[lang])\n",
    "        for line in chain(*map(partial(parser_wrap, lang, data), range(len(data)))):\n",
    "            print(line, file=f, end='\\n\\n')"
   ]
  }
 ],
 "metadata": {
  "kernelspec": {
   "display_name": "all3-intel",
   "language": "python",
   "name": "all3-intel"
  },
  "language_info": {
   "codemirror_mode": {
    "name": "ipython",
    "version": 3
   },
   "file_extension": ".py",
   "mimetype": "text/x-python",
   "name": "python",
   "nbconvert_exporter": "python",
   "pygments_lexer": "ipython3",
   "version": "3.6.8"
  }
 },
 "nbformat": 4,
 "nbformat_minor": 2
}
