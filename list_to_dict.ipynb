{
 "cells": [
  {
   "cell_type": "code",
   "execution_count": null,
   "metadata": {},
   "outputs": [],
   "source": [
    "import yaml\n",
    "import yamlloader"
   ]
  },
  {
   "cell_type": "code",
   "execution_count": null,
   "metadata": {},
   "outputs": [],
   "source": [
    "from collections import OrderedDict"
   ]
  },
  {
   "cell_type": "code",
   "execution_count": null,
   "metadata": {},
   "outputs": [],
   "source": [
    "def parse_category(category):\n",
    "    result = category.split('——')\n",
    "    temp = result[1].split('（')\n",
    "    if len(temp) == 2:\n",
    "        result[1] = temp[0]\n",
    "        # remove closing parenthesis\n",
    "        result.append(temp[1][:-1])\n",
    "    return result"
   ]
  },
  {
   "cell_type": "code",
   "execution_count": null,
   "metadata": {},
   "outputs": [],
   "source": [
    "def push_dict(dict_, keys, key, value):\n",
    "    # default to an empty OrderedDict\n",
    "    if keys[0] not in dict_:\n",
    "        dict_[keys[0]] = OrderedDict()\n",
    "    # recursively push keys into dict_\n",
    "    if len(keys) > 1:\n",
    "        push_dict(dict_[keys[0]], keys[1:], key, value)\n",
    "    # until no more and push key-value pair to it\n",
    "    else:\n",
    "        dict_[keys[0]][key] = value"
   ]
  },
  {
   "cell_type": "code",
   "execution_count": null,
   "metadata": {},
   "outputs": [],
   "source": [
    "with open('data.yml', 'r') as f:\n",
    "    data = yaml.load(f, Loader=yamlloader.ordereddict.CSafeLoader)"
   ]
  },
  {
   "cell_type": "code",
   "execution_count": null,
   "metadata": {},
   "outputs": [],
   "source": [
    "result = OrderedDict()\n",
    "for i, datum in enumerate(data):\n",
    "    categories = parse_category(datum['category']['zh'])\n",
    "    datum.pop('category', None)\n",
    "    push_dict(result, categories, i, datum)"
   ]
  },
  {
   "cell_type": "code",
   "execution_count": null,
   "metadata": {},
   "outputs": [],
   "source": [
    "with open('data2.yml', 'w') as f:\n",
    "    yaml.dump(result, f, Dumper=yamlloader.ordereddict.CSafeDumper, default_flow_style=False, allow_unicode=True)"
   ]
  }
 ],
 "metadata": {
  "kernelspec": {
   "display_name": "all3-defaults",
   "language": "python",
   "name": "all3-defaults"
  },
  "language_info": {
   "codemirror_mode": {
    "name": "ipython",
    "version": 3
   },
   "file_extension": ".py",
   "mimetype": "text/x-python",
   "name": "python",
   "nbconvert_exporter": "python",
   "pygments_lexer": "ipython3",
   "version": "3.8.5"
  }
 },
 "nbformat": 4,
 "nbformat_minor": 4
}
