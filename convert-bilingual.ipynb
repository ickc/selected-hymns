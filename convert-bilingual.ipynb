{
 "cells": [
  {
   "cell_type": "code",
   "execution_count": null,
   "metadata": {},
   "outputs": [],
   "source": [
    "from collections import defaultdict\n",
    "from functools import partial\n",
    "from itertools import chain\n",
    "\n",
    "import yaml\n",
    "import yamlloader"
   ]
  },
  {
   "cell_type": "markdown",
   "metadata": {},
   "source": [
    "keys per hymn:\n",
    "\n",
    "stanza: dict with keys as int, or int-chorus, values as dict with key as zh, en\n",
    "\n",
    "meter: str\n",
    "\n",
    "note: dict with key as zh, en\n",
    "\n",
    "ref: dict with key as zh, en\n",
    "\n",
    "author: dict with key as en\n",
    "\n",
    "title: dict with key as en"
   ]
  },
  {
   "cell_type": "code",
   "execution_count": null,
   "metadata": {},
   "outputs": [],
   "source": [
    "KEYS = (\"author\", \"meter\", \"ref\", \"note\")"
   ]
  },
  {
   "cell_type": "code",
   "execution_count": null,
   "metadata": {},
   "outputs": [],
   "source": [
    "LANG = (\"zh\", \"en\")"
   ]
  },
  {
   "cell_type": "code",
   "execution_count": null,
   "metadata": {},
   "outputs": [],
   "source": [
    "meta = \"\"\"---\n",
    "title:\t詩歌選集　Selected Hymns\n",
    "keywords:\t詩歌, Hymn\n",
    "lang:\tzh-Hant\n",
    "otherlangs: en\n",
    "CJKmainfont:\tKaiti TC\n",
    "CJKoptions:\tBoldFont = * Bold, AutoFakeSlant\n",
    "...\n",
    "\n",
    "\"\"\""
   ]
  },
  {
   "cell_type": "code",
   "execution_count": null,
   "metadata": {},
   "outputs": [],
   "source": [
    "def get_lang(obj):\n",
    "    if isinstance(obj, str):\n",
    "        return obj\n",
    "    elif isinstance(obj, dict):\n",
    "        return \"　\".join(obj[lang] for lang in LANG if lang in obj)\n",
    "    else:\n",
    "        return \"\""
   ]
  },
  {
   "cell_type": "code",
   "execution_count": null,
   "metadata": {},
   "outputs": [],
   "source": [
    "def get_title(lang, hymn):\n",
    "    \"\"\"get title from hymn if exist, else get first line from stanza\n",
    "    else return 'No Title'\n",
    "    \"\"\"\n",
    "    if \"title\" in hymn and lang in hymn[\"title\"]:\n",
    "        return hymn[\"title\"][lang]\n",
    "    else:\n",
    "        try:\n",
    "            return list(hymn[\"stanza\"].values())[0][0][lang]\n",
    "        except:\n",
    "            return None"
   ]
  },
  {
   "cell_type": "code",
   "execution_count": null,
   "metadata": {},
   "outputs": [],
   "source": [
    "def get_titles(hymn):\n",
    "    results = (get_title(lang, hymn) for lang in LANG)\n",
    "    results = (result for result in results if result is not None)\n",
    "    return \"　\".join(results)"
   ]
  },
  {
   "cell_type": "code",
   "execution_count": null,
   "metadata": {},
   "outputs": [],
   "source": [
    "def parse_stanza(dict_):\n",
    "    \"\"\"parse ``dict_`` as a stanza while choosing only ``lang``\n",
    "\n",
    "    stanza are dict with keys as either int or str. str is in format ``N-chorus``\n",
    "    where ``N`` is any int. This int indicates the n-th stanza. And ``-chorus``\n",
    "    means it is a chorus.\n",
    "\n",
    "    In this function, Line blocks is used for each stanza, and chorus is an indented\n",
    "    bullet item, stanza are enumerated items.\n",
    "\n",
    "    return a str of stanza in markdown format\n",
    "    \"\"\"\n",
    "    result = []\n",
    "    for key, value in dict_.items():\n",
    "        head_rest = \"| \"\n",
    "\n",
    "        head0 = f\"\\n* | \" if isinstance(key, str) else f\"\\n{key}. | \"\n",
    "\n",
    "        head_cur = head0\n",
    "        for content in value:\n",
    "            temp = [content[lang] for lang in LANG if lang in content]\n",
    "            temp[0] = head_cur + temp[0]\n",
    "            if len(temp) > 1:\n",
    "                temp[1] = head_rest + temp[1]\n",
    "            result += temp\n",
    "            head_cur = head_rest\n",
    "    return \"\\n\".join(result)"
   ]
  },
  {
   "cell_type": "code",
   "execution_count": null,
   "metadata": {},
   "outputs": [],
   "source": [
    "def parser(dict_, i, level, logos=False):\n",
    "    # title\n",
    "    result = [\"#\" * level + f\" {i + 1} \" + get_titles(dict_)]\n",
    "    if logos:\n",
    "        result.append(f\"[[@Headword+en:{i + 1}]]\")\n",
    "    # between title and stanza\n",
    "    result += [get_lang(dict_[key]) for key in KEYS if key in dict_]\n",
    "    # stanza\n",
    "    result.append(parse_stanza(dict_[\"stanza\"]))\n",
    "    return result"
   ]
  },
  {
   "cell_type": "code",
   "execution_count": null,
   "metadata": {
    "lines_to_next_cell": 2
   },
   "outputs": [],
   "source": [
    "def walk(doc, level=1, result=[], logos=False):\n",
    "    \"\"\"walk the doc as a dict, when hit a hymn, use ``parser``,\n",
    "    else add a heading and recursively walk again\n",
    "    \"\"\"\n",
    "    for key, value in doc.items():\n",
    "        # when key is int, value is a hymn\n",
    "        if isinstance(key, int):\n",
    "            #             print(f'find an int {key}')\n",
    "            result += parser(value, key, level, logos=logos)\n",
    "        # else key is a category and value is something like a doc\n",
    "        else:\n",
    "            #             print(f'find a category {key}')\n",
    "            result.append(\"#\" * level + \" \" + key)\n",
    "            walk(value, level=level + 1, result=result, logos=logos)\n",
    "\n",
    "\n",
    "#     return result"
   ]
  },
  {
   "cell_type": "code",
   "execution_count": null,
   "metadata": {},
   "outputs": [],
   "source": [
    "def write_lang(meta, data, logos=False):\n",
    "    \"\"\"IO wrapper of walk\"\"\"\n",
    "    filename = \"zh-Hant-en\"\n",
    "    if logos:\n",
    "        filename += \"-logos\"\n",
    "    filename += \".md\"\n",
    "    with open(filename, \"w\") as f:\n",
    "        f.write(meta)\n",
    "        result = []\n",
    "        walk(data, result=result, logos=logos)\n",
    "        for line in result:\n",
    "            print(line, file=f, end=\"\\n\\n\")"
   ]
  },
  {
   "cell_type": "code",
   "execution_count": null,
   "metadata": {},
   "outputs": [],
   "source": [
    "with open(\"data2.yml\", \"r\") as f:\n",
    "    data2 = yaml.load(f, Loader=yamlloader.ordereddict.CLoader)"
   ]
  },
  {
   "cell_type": "code",
   "execution_count": null,
   "metadata": {},
   "outputs": [],
   "source": [
    "for logos in (True, False):\n",
    "    write_lang(meta, data2, logos=logos)"
   ]
  }
 ],
 "metadata": {
  "jupytext": {
   "encoding": "# -*- coding: utf-8 -*-",
   "text_representation": {
    "extension": ".py",
    "format_name": "percent",
    "format_version": "1.3",
    "jupytext_version": "1.13.6"
   }
  },
  "kernelspec": {
   "display_name": "all310-conda-forge",
   "language": "python",
   "name": "all310-conda-forge"
  },
  "language_info": {
   "codemirror_mode": {
    "name": "ipython",
    "version": 3
   },
   "file_extension": ".py",
   "mimetype": "text/x-python",
   "name": "python",
   "nbconvert_exporter": "python",
   "pygments_lexer": "ipython3",
   "version": "3.10.1"
  }
 },
 "nbformat": 4,
 "nbformat_minor": 4
}
