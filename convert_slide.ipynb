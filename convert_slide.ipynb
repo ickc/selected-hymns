{
 "cells": [
  {
   "cell_type": "code",
   "execution_count": null,
   "metadata": {},
   "outputs": [],
   "source": [
    "from functools import partial\n",
    "from pathlib import Path\n",
    "\n",
    "import numpy as np\n",
    "import pandas as pd\n",
    "import yaml\n",
    "import yamlloader\n",
    "from pantable.ast import PanTableMarkdown\n",
    "from pantable.util import convert_text"
   ]
  },
  {
   "cell_type": "code",
   "execution_count": null,
   "id": "62073495",
   "metadata": {},
   "outputs": [],
   "source": []
  },
  {
   "cell_type": "code",
   "execution_count": null,
   "id": "8727db16",
   "metadata": {
    "lines_to_next_cell": 2
   },
   "outputs": [],
   "source": []
  },
  {
   "cell_type": "markdown",
   "metadata": {},
   "source": [
    "keys per hymn:\n",
    "\n",
    "stanza: dict with keys as int, or int-chorus, values as dict with key as zh, en\n",
    "\n",
    "meter: str\n",
    "\n",
    "note: dict with key as zh, en\n",
    "\n",
    "ref: dict with key as zh, en\n",
    "\n",
    "author: dict with key as en\n",
    "\n",
    "title: dict with key as en"
   ]
  },
  {
   "cell_type": "code",
   "execution_count": null,
   "metadata": {},
   "outputs": [],
   "source": [
    "def get_title(lang, hymn):\n",
    "    \"\"\"get title from hymn if exist, else get first line from stanza\n",
    "    else return 'No Title'\n",
    "    \"\"\"\n",
    "    if \"title\" in hymn and lang in hymn[\"title\"]:\n",
    "        return hymn[\"title\"][lang]\n",
    "    else:\n",
    "        try:\n",
    "            return list(hymn[\"stanza\"].values())[0][0][lang]\n",
    "        except:\n",
    "            return \"\""
   ]
  },
  {
   "cell_type": "code",
   "execution_count": null,
   "metadata": {},
   "outputs": [],
   "source": [
    "def get(lang, hymn, key=\"author\"):\n",
    "    \"\"\"get key\"\"\"\n",
    "    if key in hymn and lang in hymn[key]:\n",
    "        return hymn[key][lang]\n",
    "    else:\n",
    "        return \"\""
   ]
  },
  {
   "cell_type": "code",
   "execution_count": null,
   "metadata": {},
   "outputs": [],
   "source": [
    "def get_duolingual(func, hymn):\n",
    "    return \" \".join((func(lang, hymn) for lang in (\"en\", \"zh\")))"
   ]
  },
  {
   "cell_type": "code",
   "execution_count": null,
   "metadata": {},
   "outputs": [],
   "source": [
    "subdir = Path(\"slide\")"
   ]
  },
  {
   "cell_type": "code",
   "execution_count": null,
   "metadata": {},
   "outputs": [],
   "source": [
    "subdir.mkdir(exist_ok=True)"
   ]
  },
  {
   "cell_type": "code",
   "execution_count": null,
   "metadata": {},
   "outputs": [],
   "source": [
    "with open(\"data.yml\") as f:\n",
    "    data = yaml.load(f, Loader=yamlloader.ordereddict.CSafeLoader)"
   ]
  },
  {
   "cell_type": "code",
   "execution_count": null,
   "metadata": {},
   "outputs": [],
   "source": [
    "len(data)"
   ]
  },
  {
   "cell_type": "code",
   "execution_count": null,
   "metadata": {},
   "outputs": [],
   "source": [
    "def hymn_to_slide(hymn):\n",
    "    pages = []\n",
    "\n",
    "    meta = []\n",
    "    title = get_duolingual(get_title, hymn)\n",
    "    meta.append(f\"title: {title}\")\n",
    "    author = get_duolingual(partial(get, key=\"author\"), hymn).strip()\n",
    "    if author:\n",
    "        meta.append(f\"author: {author}\")\n",
    "\n",
    "    temp = \"\\n\".join(meta)\n",
    "    pages.append(\n",
    "        f\"\"\"---\n",
    "{temp}\n",
    "...\"\"\"\n",
    "    )\n",
    "\n",
    "    info_page = []\n",
    "    for key in (\"meter\", \"note\", \"ref\"):\n",
    "        temp = get_duolingual(partial(get, key=key), hymn).strip()\n",
    "        if temp:\n",
    "            info_page.append(f\"{key}: {temp}\")\n",
    "    if info_page:\n",
    "        temp = \"\\n\\n\".join(info_page)\n",
    "        pages.append(\n",
    "            f\"\"\"# About 關於\n",
    "\n",
    "{temp}\"\"\"\n",
    "        )\n",
    "\n",
    "    for key, stanza in hymn[\"stanza\"].items():\n",
    "        temp = []\n",
    "        if type(key) is int:\n",
    "            temp.append(f\"# {key}\")\n",
    "        else:\n",
    "            temp.append(\"# Chorus 和\")\n",
    "        temp.append(\"\\n\")\n",
    "        for line in stanza:\n",
    "            for lang in (\"en\", \"zh\"):\n",
    "                if lang in line:\n",
    "                    temp.append(f\"| {line[lang]}\")\n",
    "        pages.append(\"\\n\".join(temp))\n",
    "    return \"\\n\\n\".join(pages)"
   ]
  },
  {
   "cell_type": "code",
   "execution_count": null,
   "metadata": {},
   "outputs": [],
   "source": [
    "for i, datum in enumerate(data, 1):\n",
    "    with open(subdir / f\"{i}.md\", \"w\") as f:\n",
    "        print(hymn_to_slide(datum), file=f)"
   ]
  },
  {
   "cell_type": "code",
   "execution_count": null,
   "metadata": {},
   "outputs": [],
   "source": [
    "PanTableMarkdown?"
   ]
  },
  {
   "cell_type": "code",
   "execution_count": null,
   "metadata": {},
   "outputs": [],
   "source": [
    "l = len(data)\n",
    "# try 8 or 16 columns\n",
    "n = 16\n",
    "m = l // n\n",
    "assert l == m * n\n",
    "shape = (m, n)"
   ]
  },
  {
   "cell_type": "code",
   "execution_count": null,
   "metadata": {},
   "outputs": [],
   "source": [
    "temp = np.arange(1, len(data) + 1).reshape(shape)"
   ]
  },
  {
   "cell_type": "code",
   "execution_count": null,
   "metadata": {},
   "outputs": [],
   "source": [
    "res = np.empty_like(temp, dtype=\"O\")"
   ]
  },
  {
   "cell_type": "code",
   "execution_count": null,
   "metadata": {},
   "outputs": [],
   "source": [
    "for i in range(m):\n",
    "    for j in range(n):\n",
    "        num = temp[i, j]\n",
    "        res[i, j] = f\"[{num}](slide/{num}.html)\""
   ]
  },
  {
   "cell_type": "code",
   "execution_count": null,
   "metadata": {},
   "outputs": [],
   "source": [
    "df = pd.DataFrame(res)"
   ]
  },
  {
   "cell_type": "code",
   "execution_count": null,
   "metadata": {},
   "outputs": [],
   "source": [
    "df.to_csv(\"docs/slide.csv\", header=False, index=False)"
   ]
  },
  {
   "cell_type": "raw",
   "metadata": {},
   "source": [
    "pan_table = PanTableMarkdown(res, ms=np.array([0, 0, m, 0]))"
   ]
  },
  {
   "cell_type": "raw",
   "metadata": {},
   "source": [
    "print(convert_text(pan_table.to_pantable().to_panflute_ast(), input_format='panflute', output_format='markdown'))"
   ]
  }
 ],
 "metadata": {
  "kernelspec": {
   "display_name": "all3-defaults",
   "language": "python",
   "name": "all3-defaults"
  },
  "language_info": {
   "codemirror_mode": {
    "name": "ipython",
    "version": 3
   },
   "file_extension": ".py",
   "mimetype": "text/x-python",
   "name": "python",
   "nbconvert_exporter": "python",
   "pygments_lexer": "ipython3",
   "version": "3.8.5"
  }
 },
 "nbformat": 4,
 "nbformat_minor": 4
}
