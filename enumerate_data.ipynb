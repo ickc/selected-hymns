{
 "cells": [
  {
   "cell_type": "code",
   "execution_count": null,
   "id": "9d76a727-8ff9-4ba3-9cfa-d194e3d620b3",
   "metadata": {},
   "outputs": [],
   "source": [
    "import yaml\n",
    "import yamlloader"
   ]
  },
  {
   "cell_type": "markdown",
   "id": "d521b859-e7fe-4103-a9f7-001feb889f4b",
   "metadata": {},
   "source": [
    "To"
   ]
  },
  {
   "cell_type": "code",
   "execution_count": null,
   "id": "36bc176a-ab25-4275-b6fa-174bb7b7c0da",
   "metadata": {},
   "outputs": [],
   "source": [
    "with open(\"data.yml\", \"r\") as f:\n",
    "    data = yaml.load(f, Loader=yamlloader.ordereddict.CSafeLoader)"
   ]
  },
  {
   "cell_type": "code",
   "execution_count": null,
   "id": "d05452f9-f154-45cf-bc2c-c6af52344b3f",
   "metadata": {},
   "outputs": [],
   "source": [
    "data_enum = {i: datum for i, datum in enumerate(data, 1)}"
   ]
  },
  {
   "cell_type": "code",
   "execution_count": null,
   "id": "3d7d84a4-a365-4ea3-a37a-0517b025d0b7",
   "metadata": {},
   "outputs": [],
   "source": [
    "with open(\"data-enum.yml\", \"w\") as f:\n",
    "    yaml.dump(\n",
    "        data_enum,\n",
    "        f,\n",
    "        Dumper=yamlloader.ordereddict.CSafeDumper,\n",
    "        default_flow_style=False,\n",
    "        allow_unicode=True,\n",
    "    )"
   ]
  },
  {
   "cell_type": "markdown",
   "id": "1e9f83f7-2d3c-4a49-a3d0-b69e51ca2836",
   "metadata": {},
   "source": [
    "From"
   ]
  },
  {
   "cell_type": "code",
   "execution_count": null,
   "id": "d18eb51a-262d-465b-b54a-b1a41321ba7d",
   "metadata": {},
   "outputs": [],
   "source": [
    "with open(\"data-enum.yml\", \"r\") as f:\n",
    "    data_enum = yaml.load(f, Loader=yamlloader.ordereddict.CSafeLoader)"
   ]
  },
  {
   "cell_type": "code",
   "execution_count": null,
   "id": "04dce6d9-2dcd-4dd1-a4ae-1711dba72997",
   "metadata": {},
   "outputs": [],
   "source": [
    "data = list(data_enum.values())"
   ]
  },
  {
   "cell_type": "code",
   "execution_count": null,
   "id": "e3cf9b0b-5f4a-488a-88de-f24f465980b2",
   "metadata": {},
   "outputs": [],
   "source": [
    "with open(\"data.yml\", \"w\") as f:\n",
    "    yaml.dump(\n",
    "        data,\n",
    "        f,\n",
    "        Dumper=yamlloader.ordereddict.CSafeDumper,\n",
    "        default_flow_style=False,\n",
    "        allow_unicode=True,\n",
    "    )"
   ]
  }
 ],
 "metadata": {
  "jupytext": {
   "text_representation": {
    "extension": ".py",
    "format_name": "percent",
    "format_version": "1.3",
    "jupytext_version": "1.13.6"
   }
  },
  "kernelspec": {
   "display_name": "all39-conda-forge",
   "language": "python",
   "name": "all39-conda-forge"
  },
  "language_info": {
   "codemirror_mode": {
    "name": "ipython",
    "version": 3
   },
   "file_extension": ".py",
   "mimetype": "text/x-python",
   "name": "python",
   "nbconvert_exporter": "python",
   "pygments_lexer": "ipython3",
   "version": "3.9.9"
  }
 },
 "nbformat": 4,
 "nbformat_minor": 5
}
